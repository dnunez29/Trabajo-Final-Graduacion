{
 "cells": [
  {
   "cell_type": "markdown",
   "id": "6a7b562e",
   "metadata": {},
   "source": [
    "# Trabajo Final de Graduación\n",
    "Daniel Núñez Vargas"
   ]
  },
  {
   "cell_type": "code",
   "execution_count": 1,
   "id": "424ad9d1",
   "metadata": {},
   "outputs": [],
   "source": [
    "import importlib\n",
    "from Funciones import normalize_block_name # Script donde se han incluido variedad de funciones personalizadas\n",
    "import pandas as pd\n",
    "import numpy as np\n",
    "import re"
   ]
  },
  {
   "cell_type": "code",
   "execution_count": 2,
   "id": "d15f433f",
   "metadata": {},
   "outputs": [
    {
     "data": {
      "application/vnd.microsoft.datawrangler.viewer.v0+json": {
       "columns": [
        {
         "name": "index",
         "rawType": "int64",
         "type": "integer"
        },
        {
         "name": "the_geom",
         "rawType": "object",
         "type": "string"
        },
        {
         "name": "cartodb_id",
         "rawType": "int64",
         "type": "integer"
        },
        {
         "name": "the_geom_webmercator",
         "rawType": "object",
         "type": "string"
        },
        {
         "name": "objectid",
         "rawType": "int64",
         "type": "integer"
        },
        {
         "name": "dc_dist",
         "rawType": "int64",
         "type": "integer"
        },
        {
         "name": "psa",
         "rawType": "object",
         "type": "string"
        },
        {
         "name": "dispatch_date_time",
         "rawType": "object",
         "type": "string"
        },
        {
         "name": "dispatch_date",
         "rawType": "object",
         "type": "string"
        },
        {
         "name": "dispatch_time",
         "rawType": "object",
         "type": "string"
        },
        {
         "name": "hour",
         "rawType": "int64",
         "type": "integer"
        },
        {
         "name": "dc_key",
         "rawType": "float64",
         "type": "float"
        },
        {
         "name": "location_block",
         "rawType": "object",
         "type": "string"
        },
        {
         "name": "ucr_general",
         "rawType": "int64",
         "type": "integer"
        },
        {
         "name": "text_general_code",
         "rawType": "object",
         "type": "string"
        },
        {
         "name": "point_x",
         "rawType": "float64",
         "type": "float"
        },
        {
         "name": "point_y",
         "rawType": "float64",
         "type": "float"
        },
        {
         "name": "lat",
         "rawType": "float64",
         "type": "float"
        },
        {
         "name": "lng",
         "rawType": "float64",
         "type": "float"
        }
       ],
       "ref": "01689185-03da-4a1c-a5ad-f4bd243f5ebb",
       "rows": [
        [
         "0",
         "0101000020E6100000483D5F41A7C952C010D2996F95F74340",
         "1",
         "0101000020110F00004C03D720AEE95FC14B4695FD91865241",
         "29086214",
         "3",
         "2",
         "2025-05-03 03:44:00+00",
         "2025-05-02",
         "23:44:00",
         "23",
         "202503020486.0",
         "1100 BLOCK S 4TH ST",
         "300",
         "Robbery No Firearm",
         "-75.15083346",
         "39.93424792",
         "39.93424792300005",
         "-75.15083345699998"
        ],
        [
         "1",
         "0101000020E6100000942D829472CB52C00868633E43FB4340",
         "2",
         "0101000020110F0000FE7F6C56BAEC5FC10F56395FA58A5241",
         "28777819",
         "9",
         "1",
         "2025-04-23 22:18:00+00",
         "2025-04-23",
         "18:18:00",
         "18",
         "202509048279.0",
         "300 BLOCK MARTIN LUTHER KING DR",
         "300",
         "Robbery No Firearm",
         "-75.17886842",
         "39.96298962",
         "39.962989615000026",
         "-75.17886841499995"
        ],
        [
         "2",
         "0101000020E6100000F0BE9E6D7DCE52C0D06F6D5510FD4340",
         "3",
         "0101000020110F00004A86194AE5F15FC1D39EAC59A48C5241",
         "29429836",
         "19",
         "3",
         "2025-05-13 01:04:00+00",
         "2025-05-12",
         "21:04:00",
         "21",
         "202519031722.0",
         "5100 BLOCK LANCASTER AVE",
         "300",
         "Robbery No Firearm",
         "-75.22640553",
         "39.97706097",
         "39.97706096500008",
         "-75.22640552999997"
        ],
        [
         "3",
         "0101000020E6100000A05D1DB1EACB52C048CAED36E6FD4340",
         "4",
         "0101000020110F0000FD90065C86ED5FC138217568918D5241",
         "28777844",
         "22",
         "4",
         "2025-04-23 22:32:00+00",
         "2025-04-23",
         "18:32:00",
         "18",
         "202522027151.0",
         "1700 BLOCK N 32ND ST",
         "300",
         "Robbery No Firearm",
         "-75.18619945",
         "39.98358809",
         "39.98358809100006",
         "-75.18619945399996"
        ],
        [
         "4",
         "0101000020E61000002C3AC80797C952C0C8F6274CF3004440",
         "5",
         "0101000020110F0000A4AB8C9192E95FC15E540453F3905241",
         "28777849",
         "25",
         "4",
         "2025-04-24 04:47:00+00",
         "2025-04-24",
         "00:47:00",
         "0",
         "202525026041.0",
         "1300 BLOCK W Venango St",
         "300",
         "Robbery No Firearm",
         "-75.14984316",
         "40.00742485",
         "40.00742485000006",
         "-75.14984316399995"
        ],
        [
         "5",
         "0101000020E610000078D60B9155CC52C00609171317FB4340",
         "6",
         "0101000020110F0000365F9FE53BEE5FC11CBBED6D748A5241",
         "27244917",
         "16",
         "1",
         "2025-02-27 01:16:00+00",
         "2025-02-26",
         "20:16:00",
         "20",
         "202516009364.0",
         "400 BLOCK N 35TH ST",
         "300",
         "Robbery No Firearm",
         "-75.19272257",
         "39.96164168",
         "39.96164168",
         "-75.19272257"
        ],
        [
         "6",
         "0101000020E6100000644F029B73C852C018B9196EC0034440",
         "7",
         "0101000020110F0000E1C1D58DA3E75FC1E1C6609C0E945241",
         "28403857",
         "35",
         "2",
         "2025-04-13 07:15:00+00",
         "2025-04-13",
         "03:15:00",
         "3",
         "202535027345.0",
         "5100 BLOCK N 5TH ST",
         "300",
         "Robbery No Firearm",
         "-75.132056",
         "40.02931",
         "40.02931000000007",
         "-75.13205599999998"
        ],
        [
         "7",
         "0101000020E6100000A430E247C4C952C058B25A68C0024440",
         "8",
         "0101000020110F0000B0BA4F6EDFE95FC1909951A8F2925241",
         "28403859",
         "39",
         "2",
         "2025-04-12 13:37:00+00",
         "2025-04-12",
         "09:37:00",
         "9",
         "202539025408.0",
         "4400 BLOCK N BANCROFT ST",
         "300",
         "Robbery No Firearm",
         "-75.15260503",
         "40.02149682",
         "40.02149681500004",
         "-75.15260502899997"
        ],
        [
         "8",
         "0101000020E6100000F08D342DDBCA52C090D112E24C084440",
         "9",
         "0101000020110F00005BD6D829B9EB5FC1F842D8821A995241",
         "28777858",
         "14",
         "1",
         "2025-04-24 00:15:00+00",
         "2025-04-23",
         "20:15:00",
         "20",
         "202514032152.0",
         "7700 BLOCK MANSFIELD AV",
         "400",
         "Aggravated Assault No Firearm",
         "-75.16962748",
         "40.06484629",
         "40.064846286000034",
         "-75.16962747699995"
        ],
        [
         "9",
         "0101000020E610000054BFD2F9F0CB52C0F88FBE49D3FE4340",
         "10",
         "0101000020110F00008136940891ED5FC11FE5B732988E5241",
         "28777859",
         "22",
         "2",
         "2025-04-23 14:40:00+00",
         "2025-04-23",
         "10:40:00",
         "10",
         "202522027002.0",
         "2200 BLOCK N 33RD ST",
         "400",
         "Aggravated Assault No Firearm",
         "-75.186583",
         "39.990823",
         "39.990823000000034",
         "-75.18658299999998"
        ]
       ],
       "shape": {
        "columns": 18,
        "rows": 10
       }
      },
      "text/html": [
       "<div>\n",
       "<style scoped>\n",
       "    .dataframe tbody tr th:only-of-type {\n",
       "        vertical-align: middle;\n",
       "    }\n",
       "\n",
       "    .dataframe tbody tr th {\n",
       "        vertical-align: top;\n",
       "    }\n",
       "\n",
       "    .dataframe thead th {\n",
       "        text-align: right;\n",
       "    }\n",
       "</style>\n",
       "<table border=\"1\" class=\"dataframe\">\n",
       "  <thead>\n",
       "    <tr style=\"text-align: right;\">\n",
       "      <th></th>\n",
       "      <th>the_geom</th>\n",
       "      <th>cartodb_id</th>\n",
       "      <th>the_geom_webmercator</th>\n",
       "      <th>objectid</th>\n",
       "      <th>dc_dist</th>\n",
       "      <th>psa</th>\n",
       "      <th>dispatch_date_time</th>\n",
       "      <th>dispatch_date</th>\n",
       "      <th>dispatch_time</th>\n",
       "      <th>hour</th>\n",
       "      <th>dc_key</th>\n",
       "      <th>location_block</th>\n",
       "      <th>ucr_general</th>\n",
       "      <th>text_general_code</th>\n",
       "      <th>point_x</th>\n",
       "      <th>point_y</th>\n",
       "      <th>lat</th>\n",
       "      <th>lng</th>\n",
       "    </tr>\n",
       "  </thead>\n",
       "  <tbody>\n",
       "    <tr>\n",
       "      <th>0</th>\n",
       "      <td>0101000020E6100000483D5F41A7C952C010D2996F95F7...</td>\n",
       "      <td>1</td>\n",
       "      <td>0101000020110F00004C03D720AEE95FC14B4695FD9186...</td>\n",
       "      <td>29086214</td>\n",
       "      <td>3</td>\n",
       "      <td>2</td>\n",
       "      <td>2025-05-03 03:44:00+00</td>\n",
       "      <td>2025-05-02</td>\n",
       "      <td>23:44:00</td>\n",
       "      <td>23</td>\n",
       "      <td>2.025030e+11</td>\n",
       "      <td>1100 BLOCK S 4TH ST</td>\n",
       "      <td>300</td>\n",
       "      <td>Robbery No Firearm</td>\n",
       "      <td>-75.150833</td>\n",
       "      <td>39.934248</td>\n",
       "      <td>39.934248</td>\n",
       "      <td>-75.150833</td>\n",
       "    </tr>\n",
       "    <tr>\n",
       "      <th>1</th>\n",
       "      <td>0101000020E6100000942D829472CB52C00868633E43FB...</td>\n",
       "      <td>2</td>\n",
       "      <td>0101000020110F0000FE7F6C56BAEC5FC10F56395FA58A...</td>\n",
       "      <td>28777819</td>\n",
       "      <td>9</td>\n",
       "      <td>1</td>\n",
       "      <td>2025-04-23 22:18:00+00</td>\n",
       "      <td>2025-04-23</td>\n",
       "      <td>18:18:00</td>\n",
       "      <td>18</td>\n",
       "      <td>2.025090e+11</td>\n",
       "      <td>300 BLOCK MARTIN LUTHER KING DR</td>\n",
       "      <td>300</td>\n",
       "      <td>Robbery No Firearm</td>\n",
       "      <td>-75.178868</td>\n",
       "      <td>39.962990</td>\n",
       "      <td>39.962990</td>\n",
       "      <td>-75.178868</td>\n",
       "    </tr>\n",
       "    <tr>\n",
       "      <th>2</th>\n",
       "      <td>0101000020E6100000F0BE9E6D7DCE52C0D06F6D5510FD...</td>\n",
       "      <td>3</td>\n",
       "      <td>0101000020110F00004A86194AE5F15FC1D39EAC59A48C...</td>\n",
       "      <td>29429836</td>\n",
       "      <td>19</td>\n",
       "      <td>3</td>\n",
       "      <td>2025-05-13 01:04:00+00</td>\n",
       "      <td>2025-05-12</td>\n",
       "      <td>21:04:00</td>\n",
       "      <td>21</td>\n",
       "      <td>2.025190e+11</td>\n",
       "      <td>5100 BLOCK LANCASTER AVE</td>\n",
       "      <td>300</td>\n",
       "      <td>Robbery No Firearm</td>\n",
       "      <td>-75.226406</td>\n",
       "      <td>39.977061</td>\n",
       "      <td>39.977061</td>\n",
       "      <td>-75.226406</td>\n",
       "    </tr>\n",
       "    <tr>\n",
       "      <th>3</th>\n",
       "      <td>0101000020E6100000A05D1DB1EACB52C048CAED36E6FD...</td>\n",
       "      <td>4</td>\n",
       "      <td>0101000020110F0000FD90065C86ED5FC138217568918D...</td>\n",
       "      <td>28777844</td>\n",
       "      <td>22</td>\n",
       "      <td>4</td>\n",
       "      <td>2025-04-23 22:32:00+00</td>\n",
       "      <td>2025-04-23</td>\n",
       "      <td>18:32:00</td>\n",
       "      <td>18</td>\n",
       "      <td>2.025220e+11</td>\n",
       "      <td>1700 BLOCK N 32ND ST</td>\n",
       "      <td>300</td>\n",
       "      <td>Robbery No Firearm</td>\n",
       "      <td>-75.186199</td>\n",
       "      <td>39.983588</td>\n",
       "      <td>39.983588</td>\n",
       "      <td>-75.186199</td>\n",
       "    </tr>\n",
       "    <tr>\n",
       "      <th>4</th>\n",
       "      <td>0101000020E61000002C3AC80797C952C0C8F6274CF300...</td>\n",
       "      <td>5</td>\n",
       "      <td>0101000020110F0000A4AB8C9192E95FC15E540453F390...</td>\n",
       "      <td>28777849</td>\n",
       "      <td>25</td>\n",
       "      <td>4</td>\n",
       "      <td>2025-04-24 04:47:00+00</td>\n",
       "      <td>2025-04-24</td>\n",
       "      <td>00:47:00</td>\n",
       "      <td>0</td>\n",
       "      <td>2.025250e+11</td>\n",
       "      <td>1300 BLOCK W Venango St</td>\n",
       "      <td>300</td>\n",
       "      <td>Robbery No Firearm</td>\n",
       "      <td>-75.149843</td>\n",
       "      <td>40.007425</td>\n",
       "      <td>40.007425</td>\n",
       "      <td>-75.149843</td>\n",
       "    </tr>\n",
       "    <tr>\n",
       "      <th>5</th>\n",
       "      <td>0101000020E610000078D60B9155CC52C00609171317FB...</td>\n",
       "      <td>6</td>\n",
       "      <td>0101000020110F0000365F9FE53BEE5FC11CBBED6D748A...</td>\n",
       "      <td>27244917</td>\n",
       "      <td>16</td>\n",
       "      <td>1</td>\n",
       "      <td>2025-02-27 01:16:00+00</td>\n",
       "      <td>2025-02-26</td>\n",
       "      <td>20:16:00</td>\n",
       "      <td>20</td>\n",
       "      <td>2.025160e+11</td>\n",
       "      <td>400 BLOCK N 35TH ST</td>\n",
       "      <td>300</td>\n",
       "      <td>Robbery No Firearm</td>\n",
       "      <td>-75.192723</td>\n",
       "      <td>39.961642</td>\n",
       "      <td>39.961642</td>\n",
       "      <td>-75.192723</td>\n",
       "    </tr>\n",
       "    <tr>\n",
       "      <th>6</th>\n",
       "      <td>0101000020E6100000644F029B73C852C018B9196EC003...</td>\n",
       "      <td>7</td>\n",
       "      <td>0101000020110F0000E1C1D58DA3E75FC1E1C6609C0E94...</td>\n",
       "      <td>28403857</td>\n",
       "      <td>35</td>\n",
       "      <td>2</td>\n",
       "      <td>2025-04-13 07:15:00+00</td>\n",
       "      <td>2025-04-13</td>\n",
       "      <td>03:15:00</td>\n",
       "      <td>3</td>\n",
       "      <td>2.025350e+11</td>\n",
       "      <td>5100 BLOCK N 5TH ST</td>\n",
       "      <td>300</td>\n",
       "      <td>Robbery No Firearm</td>\n",
       "      <td>-75.132056</td>\n",
       "      <td>40.029310</td>\n",
       "      <td>40.029310</td>\n",
       "      <td>-75.132056</td>\n",
       "    </tr>\n",
       "    <tr>\n",
       "      <th>7</th>\n",
       "      <td>0101000020E6100000A430E247C4C952C058B25A68C002...</td>\n",
       "      <td>8</td>\n",
       "      <td>0101000020110F0000B0BA4F6EDFE95FC1909951A8F292...</td>\n",
       "      <td>28403859</td>\n",
       "      <td>39</td>\n",
       "      <td>2</td>\n",
       "      <td>2025-04-12 13:37:00+00</td>\n",
       "      <td>2025-04-12</td>\n",
       "      <td>09:37:00</td>\n",
       "      <td>9</td>\n",
       "      <td>2.025390e+11</td>\n",
       "      <td>4400 BLOCK N BANCROFT ST</td>\n",
       "      <td>300</td>\n",
       "      <td>Robbery No Firearm</td>\n",
       "      <td>-75.152605</td>\n",
       "      <td>40.021497</td>\n",
       "      <td>40.021497</td>\n",
       "      <td>-75.152605</td>\n",
       "    </tr>\n",
       "    <tr>\n",
       "      <th>8</th>\n",
       "      <td>0101000020E6100000F08D342DDBCA52C090D112E24C08...</td>\n",
       "      <td>9</td>\n",
       "      <td>0101000020110F00005BD6D829B9EB5FC1F842D8821A99...</td>\n",
       "      <td>28777858</td>\n",
       "      <td>14</td>\n",
       "      <td>1</td>\n",
       "      <td>2025-04-24 00:15:00+00</td>\n",
       "      <td>2025-04-23</td>\n",
       "      <td>20:15:00</td>\n",
       "      <td>20</td>\n",
       "      <td>2.025140e+11</td>\n",
       "      <td>7700 BLOCK MANSFIELD AV</td>\n",
       "      <td>400</td>\n",
       "      <td>Aggravated Assault No Firearm</td>\n",
       "      <td>-75.169627</td>\n",
       "      <td>40.064846</td>\n",
       "      <td>40.064846</td>\n",
       "      <td>-75.169627</td>\n",
       "    </tr>\n",
       "    <tr>\n",
       "      <th>9</th>\n",
       "      <td>0101000020E610000054BFD2F9F0CB52C0F88FBE49D3FE...</td>\n",
       "      <td>10</td>\n",
       "      <td>0101000020110F00008136940891ED5FC11FE5B732988E...</td>\n",
       "      <td>28777859</td>\n",
       "      <td>22</td>\n",
       "      <td>2</td>\n",
       "      <td>2025-04-23 14:40:00+00</td>\n",
       "      <td>2025-04-23</td>\n",
       "      <td>10:40:00</td>\n",
       "      <td>10</td>\n",
       "      <td>2.025220e+11</td>\n",
       "      <td>2200 BLOCK N 33RD ST</td>\n",
       "      <td>400</td>\n",
       "      <td>Aggravated Assault No Firearm</td>\n",
       "      <td>-75.186583</td>\n",
       "      <td>39.990823</td>\n",
       "      <td>39.990823</td>\n",
       "      <td>-75.186583</td>\n",
       "    </tr>\n",
       "  </tbody>\n",
       "</table>\n",
       "</div>"
      ],
      "text/plain": [
       "                                            the_geom  cartodb_id  \\\n",
       "0  0101000020E6100000483D5F41A7C952C010D2996F95F7...           1   \n",
       "1  0101000020E6100000942D829472CB52C00868633E43FB...           2   \n",
       "2  0101000020E6100000F0BE9E6D7DCE52C0D06F6D5510FD...           3   \n",
       "3  0101000020E6100000A05D1DB1EACB52C048CAED36E6FD...           4   \n",
       "4  0101000020E61000002C3AC80797C952C0C8F6274CF300...           5   \n",
       "5  0101000020E610000078D60B9155CC52C00609171317FB...           6   \n",
       "6  0101000020E6100000644F029B73C852C018B9196EC003...           7   \n",
       "7  0101000020E6100000A430E247C4C952C058B25A68C002...           8   \n",
       "8  0101000020E6100000F08D342DDBCA52C090D112E24C08...           9   \n",
       "9  0101000020E610000054BFD2F9F0CB52C0F88FBE49D3FE...          10   \n",
       "\n",
       "                                the_geom_webmercator  objectid  dc_dist psa  \\\n",
       "0  0101000020110F00004C03D720AEE95FC14B4695FD9186...  29086214        3   2   \n",
       "1  0101000020110F0000FE7F6C56BAEC5FC10F56395FA58A...  28777819        9   1   \n",
       "2  0101000020110F00004A86194AE5F15FC1D39EAC59A48C...  29429836       19   3   \n",
       "3  0101000020110F0000FD90065C86ED5FC138217568918D...  28777844       22   4   \n",
       "4  0101000020110F0000A4AB8C9192E95FC15E540453F390...  28777849       25   4   \n",
       "5  0101000020110F0000365F9FE53BEE5FC11CBBED6D748A...  27244917       16   1   \n",
       "6  0101000020110F0000E1C1D58DA3E75FC1E1C6609C0E94...  28403857       35   2   \n",
       "7  0101000020110F0000B0BA4F6EDFE95FC1909951A8F292...  28403859       39   2   \n",
       "8  0101000020110F00005BD6D829B9EB5FC1F842D8821A99...  28777858       14   1   \n",
       "9  0101000020110F00008136940891ED5FC11FE5B732988E...  28777859       22   2   \n",
       "\n",
       "       dispatch_date_time dispatch_date dispatch_time  hour        dc_key  \\\n",
       "0  2025-05-03 03:44:00+00    2025-05-02      23:44:00    23  2.025030e+11   \n",
       "1  2025-04-23 22:18:00+00    2025-04-23      18:18:00    18  2.025090e+11   \n",
       "2  2025-05-13 01:04:00+00    2025-05-12      21:04:00    21  2.025190e+11   \n",
       "3  2025-04-23 22:32:00+00    2025-04-23      18:32:00    18  2.025220e+11   \n",
       "4  2025-04-24 04:47:00+00    2025-04-24      00:47:00     0  2.025250e+11   \n",
       "5  2025-02-27 01:16:00+00    2025-02-26      20:16:00    20  2.025160e+11   \n",
       "6  2025-04-13 07:15:00+00    2025-04-13      03:15:00     3  2.025350e+11   \n",
       "7  2025-04-12 13:37:00+00    2025-04-12      09:37:00     9  2.025390e+11   \n",
       "8  2025-04-24 00:15:00+00    2025-04-23      20:15:00    20  2.025140e+11   \n",
       "9  2025-04-23 14:40:00+00    2025-04-23      10:40:00    10  2.025220e+11   \n",
       "\n",
       "                    location_block  ucr_general  \\\n",
       "0              1100 BLOCK S 4TH ST          300   \n",
       "1  300 BLOCK MARTIN LUTHER KING DR          300   \n",
       "2         5100 BLOCK LANCASTER AVE          300   \n",
       "3             1700 BLOCK N 32ND ST          300   \n",
       "4          1300 BLOCK W Venango St          300   \n",
       "5              400 BLOCK N 35TH ST          300   \n",
       "6              5100 BLOCK N 5TH ST          300   \n",
       "7         4400 BLOCK N BANCROFT ST          300   \n",
       "8          7700 BLOCK MANSFIELD AV          400   \n",
       "9             2200 BLOCK N 33RD ST          400   \n",
       "\n",
       "               text_general_code    point_x    point_y        lat        lng  \n",
       "0             Robbery No Firearm -75.150833  39.934248  39.934248 -75.150833  \n",
       "1             Robbery No Firearm -75.178868  39.962990  39.962990 -75.178868  \n",
       "2             Robbery No Firearm -75.226406  39.977061  39.977061 -75.226406  \n",
       "3             Robbery No Firearm -75.186199  39.983588  39.983588 -75.186199  \n",
       "4             Robbery No Firearm -75.149843  40.007425  40.007425 -75.149843  \n",
       "5             Robbery No Firearm -75.192723  39.961642  39.961642 -75.192723  \n",
       "6             Robbery No Firearm -75.132056  40.029310  40.029310 -75.132056  \n",
       "7             Robbery No Firearm -75.152605  40.021497  40.021497 -75.152605  \n",
       "8  Aggravated Assault No Firearm -75.169627  40.064846  40.064846 -75.169627  \n",
       "9  Aggravated Assault No Firearm -75.186583  39.990823  39.990823 -75.186583  "
      ]
     },
     "execution_count": 2,
     "metadata": {},
     "output_type": "execute_result"
    }
   ],
   "source": [
    "# Se cargan los datos\n",
    "df = pd.read_csv(\"../Input/Incidents_2025.csv\")\n",
    "df.head(10)"
   ]
  },
  {
   "cell_type": "markdown",
   "id": "c6f58e5d",
   "metadata": {},
   "source": [
    "## Descripción de los datos"
   ]
  },
  {
   "cell_type": "markdown",
   "id": "5ce996b1",
   "metadata": {},
   "source": [
    "Las variables que componen estos datos son:\n",
    "\n",
    "- **the_geom**: Geometría espacial en formato WKT (Well-Known Text) - representa la ubicación geográfica exacta del incidente\n",
    "- **cartodb_id**: Identificador único secuencial asignado por CartoDB para cada registro\n",
    "- **the_geom_webmercator**: Geometría espacial en proyección Web Mercator - formato optimizado para mapas web\n",
    "- **objectid**: Identificador único del objeto en la base de datos original del sistema policial\n",
    "- **dc_dist**: Código del distrito policial (1-25) - división administrativa de la policía de Filadelfia\n",
    "- **psa**: Área de Servicio Policial (Police Service Area) - subdivisión más pequeña dentro de cada distrito\n",
    "- **dispatch_date_time**: Fecha y hora completa cuando se despachó la llamada de emergencia\n",
    "- **dispatch_date**: Solo la fecha cuando se despachó la llamada (formato YYYY-MM-DD)\n",
    "- **dispatch_time**: Solo la hora cuando se despachó la llamada (formato HH:MM:SS)\n",
    "- **hour**: Hora del día extraída de dispatch_time (0-23) - útil para análisis temporal\n",
    "- **dc_key**: Clave única del incidente en el sistema de despacho - combina fecha y número secuencial\n",
    "- **location_block**: Descripción textual de la cuadra donde ocurrió el incidente (ej: \"1100 BLOCK S 4TH ST\")\n",
    "- **ucr_general**: Código numérico del Uniform Crime Reporting (UCR) - sistema estándar de clasificación de delitos\n",
    "- **text_general_code**: Descripción textual del tipo de delito según clasificación UCR\n",
    "- **point_x**: Coordenada X (longitud) en sistema de coordenadas de Pensilvania\n",
    "- **point_y**: Coordenada Y (latitud) en sistema de coordenadas de Pensilvania\n",
    "- **lat**: Latitud en grados decimales (WGS84) - coordenada geográfica estándar\n",
    "- **lng**: Longitud en grados decimales (WGS84) - coordenada geográfica estándar\n",
    "\n",
    "Hay varias variables que para efectos del análisis no resultan imporantes, como los identificadores únicos **cartodb_id**, **objectid** y **objectid**. Además, hay algunas otras que explican lo mismo, como lo son las **dispatch_date_time** con **dispatch_date** y **hour**. Asimismo, **point_x** y **point_y** que dan las coordenadas de acuerdo al formato local. Otras variables que a priori se pueden omitir serán **the_geom** y **the_geom_webmercartor**, ya que se le dará prioridad al uso de latitud y longitud en formato estándar (WGS84) para identificación geoespacial de patrones.\n",
    "\n",
    "Por el momento, la lista de variables que se utilizarán serán:"
   ]
  },
  {
   "cell_type": "code",
   "execution_count": 3,
   "id": "560eefcd",
   "metadata": {},
   "outputs": [
    {
     "data": {
      "application/vnd.microsoft.datawrangler.viewer.v0+json": {
       "columns": [
        {
         "name": "index",
         "rawType": "int64",
         "type": "integer"
        },
        {
         "name": "lat",
         "rawType": "float64",
         "type": "float"
        },
        {
         "name": "lng",
         "rawType": "float64",
         "type": "float"
        },
        {
         "name": "hour",
         "rawType": "int64",
         "type": "integer"
        },
        {
         "name": "dispatch_date",
         "rawType": "object",
         "type": "string"
        },
        {
         "name": "dc_dist",
         "rawType": "int64",
         "type": "integer"
        },
        {
         "name": "psa",
         "rawType": "object",
         "type": "string"
        },
        {
         "name": "ucr_general",
         "rawType": "int64",
         "type": "integer"
        },
        {
         "name": "text_general_code",
         "rawType": "object",
         "type": "string"
        },
        {
         "name": "location_block",
         "rawType": "object",
         "type": "string"
        }
       ],
       "ref": "a081b4e7-39c8-4f9f-9e73-c91091b48497",
       "rows": [
        [
         "0",
         "39.93424792300005",
         "-75.15083345699998",
         "23",
         "2025-05-02",
         "3",
         "2",
         "300",
         "Robbery No Firearm",
         "1100 BLOCK S 4TH ST"
        ],
        [
         "1",
         "39.962989615000026",
         "-75.17886841499995",
         "18",
         "2025-04-23",
         "9",
         "1",
         "300",
         "Robbery No Firearm",
         "300 BLOCK MARTIN LUTHER KING DR"
        ],
        [
         "2",
         "39.97706096500008",
         "-75.22640552999997",
         "21",
         "2025-05-12",
         "19",
         "3",
         "300",
         "Robbery No Firearm",
         "5100 BLOCK LANCASTER AVE"
        ],
        [
         "3",
         "39.98358809100006",
         "-75.18619945399996",
         "18",
         "2025-04-23",
         "22",
         "4",
         "300",
         "Robbery No Firearm",
         "1700 BLOCK N 32ND ST"
        ],
        [
         "4",
         "40.00742485000006",
         "-75.14984316399995",
         "0",
         "2025-04-24",
         "25",
         "4",
         "300",
         "Robbery No Firearm",
         "1300 BLOCK W Venango St"
        ]
       ],
       "shape": {
        "columns": 9,
        "rows": 5
       }
      },
      "text/html": [
       "<div>\n",
       "<style scoped>\n",
       "    .dataframe tbody tr th:only-of-type {\n",
       "        vertical-align: middle;\n",
       "    }\n",
       "\n",
       "    .dataframe tbody tr th {\n",
       "        vertical-align: top;\n",
       "    }\n",
       "\n",
       "    .dataframe thead th {\n",
       "        text-align: right;\n",
       "    }\n",
       "</style>\n",
       "<table border=\"1\" class=\"dataframe\">\n",
       "  <thead>\n",
       "    <tr style=\"text-align: right;\">\n",
       "      <th></th>\n",
       "      <th>lat</th>\n",
       "      <th>lng</th>\n",
       "      <th>hour</th>\n",
       "      <th>dispatch_date</th>\n",
       "      <th>dc_dist</th>\n",
       "      <th>psa</th>\n",
       "      <th>ucr_general</th>\n",
       "      <th>text_general_code</th>\n",
       "      <th>location_block</th>\n",
       "    </tr>\n",
       "  </thead>\n",
       "  <tbody>\n",
       "    <tr>\n",
       "      <th>0</th>\n",
       "      <td>39.934248</td>\n",
       "      <td>-75.150833</td>\n",
       "      <td>23</td>\n",
       "      <td>2025-05-02</td>\n",
       "      <td>3</td>\n",
       "      <td>2</td>\n",
       "      <td>300</td>\n",
       "      <td>Robbery No Firearm</td>\n",
       "      <td>1100 BLOCK S 4TH ST</td>\n",
       "    </tr>\n",
       "    <tr>\n",
       "      <th>1</th>\n",
       "      <td>39.962990</td>\n",
       "      <td>-75.178868</td>\n",
       "      <td>18</td>\n",
       "      <td>2025-04-23</td>\n",
       "      <td>9</td>\n",
       "      <td>1</td>\n",
       "      <td>300</td>\n",
       "      <td>Robbery No Firearm</td>\n",
       "      <td>300 BLOCK MARTIN LUTHER KING DR</td>\n",
       "    </tr>\n",
       "    <tr>\n",
       "      <th>2</th>\n",
       "      <td>39.977061</td>\n",
       "      <td>-75.226406</td>\n",
       "      <td>21</td>\n",
       "      <td>2025-05-12</td>\n",
       "      <td>19</td>\n",
       "      <td>3</td>\n",
       "      <td>300</td>\n",
       "      <td>Robbery No Firearm</td>\n",
       "      <td>5100 BLOCK LANCASTER AVE</td>\n",
       "    </tr>\n",
       "    <tr>\n",
       "      <th>3</th>\n",
       "      <td>39.983588</td>\n",
       "      <td>-75.186199</td>\n",
       "      <td>18</td>\n",
       "      <td>2025-04-23</td>\n",
       "      <td>22</td>\n",
       "      <td>4</td>\n",
       "      <td>300</td>\n",
       "      <td>Robbery No Firearm</td>\n",
       "      <td>1700 BLOCK N 32ND ST</td>\n",
       "    </tr>\n",
       "    <tr>\n",
       "      <th>4</th>\n",
       "      <td>40.007425</td>\n",
       "      <td>-75.149843</td>\n",
       "      <td>0</td>\n",
       "      <td>2025-04-24</td>\n",
       "      <td>25</td>\n",
       "      <td>4</td>\n",
       "      <td>300</td>\n",
       "      <td>Robbery No Firearm</td>\n",
       "      <td>1300 BLOCK W Venango St</td>\n",
       "    </tr>\n",
       "  </tbody>\n",
       "</table>\n",
       "</div>"
      ],
      "text/plain": [
       "         lat        lng  hour dispatch_date  dc_dist psa  ucr_general  \\\n",
       "0  39.934248 -75.150833    23    2025-05-02        3   2          300   \n",
       "1  39.962990 -75.178868    18    2025-04-23        9   1          300   \n",
       "2  39.977061 -75.226406    21    2025-05-12       19   3          300   \n",
       "3  39.983588 -75.186199    18    2025-04-23       22   4          300   \n",
       "4  40.007425 -75.149843     0    2025-04-24       25   4          300   \n",
       "\n",
       "    text_general_code                   location_block  \n",
       "0  Robbery No Firearm              1100 BLOCK S 4TH ST  \n",
       "1  Robbery No Firearm  300 BLOCK MARTIN LUTHER KING DR  \n",
       "2  Robbery No Firearm         5100 BLOCK LANCASTER AVE  \n",
       "3  Robbery No Firearm             1700 BLOCK N 32ND ST  \n",
       "4  Robbery No Firearm          1300 BLOCK W Venango St  "
      ]
     },
     "execution_count": 3,
     "metadata": {},
     "output_type": "execute_result"
    }
   ],
   "source": [
    "df_filter = df[['lat', 'lng', 'hour', 'dispatch_date', 'dc_dist', 'psa', 'ucr_general', 'text_general_code', 'location_block']]\n",
    "df_filter.head(5)"
   ]
  },
  {
   "cell_type": "markdown",
   "id": "6f02bebc",
   "metadata": {},
   "source": [
    "Dado que las coordenadas geográficas serán variables claves dentro del modelo, lo primero será la forma de tratarlas en caso en donde no hayan datos. Lo primero que se nota es que se identificaron 2922 registros que no presentan información sobre latitud o longitud. El primer acercamiento que tendremos será identificar estas observaciones y analizar sus similitudes con observaciones que sí tengan información sobre sus coordenadas."
   ]
  },
  {
   "cell_type": "code",
   "execution_count": 4,
   "id": "6d114d4c",
   "metadata": {},
   "outputs": [
    {
     "name": "stdout",
     "output_type": "stream",
     "text": [
      "                             location_block        lat        lng\n",
      "130   1900 BLOCK S CHRISTOPHER COLUMBUS BLV        NaN        NaN\n",
      "194  1900 BLOCK S CHRISTOPHER COLUMBUS BLVD  39.922174 -75.142375\n"
     ]
    }
   ],
   "source": [
    "# Se filtran aquellas observaciones que no tienen algunas de las coordenadas\n",
    "df_nan = df_filter[(df_filter['lat'].isna()) | (df_filter['lng'].isna())]\n",
    "# Ahora se extren las ubicaciones de manera única\n",
    "location_blocks_nan = df_nan['location_block'].unique()\n",
    "\n",
    "df_temp = df_filter[df_filter['location_block'].str.contains(\n",
    "    r'1900\\s+block\\s+s\\s+christopher\\s+columbus', \n",
    "    case=False, na=False\n",
    ")]\n",
    "\n",
    "print(df_temp[['location_block', 'lat', 'lng']].head(2))"
   ]
  },
  {
   "cell_type": "markdown",
   "id": "029a2df2",
   "metadata": {},
   "source": [
    "Notamos algo interesante ya que para un registro sí se tienen coordenadas de ese bloque mientras que para otro no, siendo la única diferencia entre registros la palabra \"BLVD\". Este compartamiento se repite para miles de observaciones, por lo que antes de imputar la latitud y la longitud de todos registros que no tienen valor, el primer paso será depurar la variable location_block, ya que esta nos permitirá realizar la imputación basándonos en el bloque en el ocurrió el delito."
   ]
  },
  {
   "cell_type": "markdown",
   "id": "9a3a0dc8",
   "metadata": {},
   "source": [
    "Ahora se aplica dicha función a todos los registros:"
   ]
  },
  {
   "cell_type": "code",
   "execution_count": 5,
   "id": "93046a1f",
   "metadata": {},
   "outputs": [
    {
     "name": "stderr",
     "output_type": "stream",
     "text": [
      "C:\\Users\\Public\\Documents\\Wondershare\\CreatorTemp\\ipykernel_10224\\3097380153.py:1: SettingWithCopyWarning: \n",
      "A value is trying to be set on a copy of a slice from a DataFrame.\n",
      "Try using .loc[row_indexer,col_indexer] = value instead\n",
      "\n",
      "See the caveats in the documentation: https://pandas.pydata.org/pandas-docs/stable/user_guide/indexing.html#returning-a-view-versus-a-copy\n",
      "  df_filter['location_block_normalized'] = df_filter['location_block'].apply(normalize_block_name)\n"
     ]
    }
   ],
   "source": [
    "df_filter['location_block_normalized'] = df_filter['location_block'].apply(normalize_block_name)"
   ]
  },
  {
   "cell_type": "markdown",
   "id": "9735df42",
   "metadata": {},
   "source": [
    "Ahora examinamos la cardinalidad de las variables latitud y longitud, por bloque: "
   ]
  },
  {
   "cell_type": "code",
   "execution_count": 6,
   "id": "5b65404c",
   "metadata": {},
   "outputs": [
    {
     "name": "stdout",
     "output_type": "stream",
     "text": [
      "                           unique_latitudes  unique_longitudes\n",
      "location_block_normalized                                     \n",
      "4000 BLOCK LANCASTER AVE                 38                 38\n",
      "GERMANTOWN AVE                           33                 34\n",
      "N BROAD ST                               33                 33\n",
      "FRANKFORD AVE                            31                 31\n",
      "3100 BLOCK KENSINGTON AVE                30                 30\n"
     ]
    }
   ],
   "source": [
    "coordinates_info_by_block = (df_filter.groupby(['location_block_normalized']).agg(\n",
    "    unique_latitudes=('lat', 'nunique'),\n",
    "    unique_longitudes=('lng', 'nunique')\n",
    ")).sort_values(by = 'unique_latitudes', ascending=False)\n",
    "print(coordinates_info_by_block.head(5))"
   ]
  },
  {
   "cell_type": "markdown",
   "id": "470bbcbe",
   "metadata": {},
   "source": [
    "Como se observa en el cuadro anterior, un bloque puede tener más de una latitud y longitud. Esto sucede porque los bloques fueron redondeados al bloque de cien más cercano. Tomemos el caso que presenta mayor cardinalidad para efectos de la explicación, el cual es **4000 BLOCK LANCASTER AVE**. "
   ]
  },
  {
   "cell_type": "markdown",
   "id": "71c8c964",
   "metadata": {},
   "source": [
    "Si tomamos todas las longitudes y latitudes para este bloque, y se calcula el mínimo y el máximo nos damos cuenta que realmente todos lo registros en latitud están entre los 39.9631° y los 39.9652°. De manera análoga para longitud, ubicando todos los crímenes entre los -75.2055° y los -75.2026°."
   ]
  },
  {
   "cell_type": "code",
   "execution_count": 7,
   "id": "a24fd3a6",
   "metadata": {},
   "outputs": [
    {
     "name": "stdout",
     "output_type": "stream",
     "text": [
      "0.0    39.9631\n",
      "1.0    39.9652\n",
      "Name: lat, dtype: float64\n",
      "0.0   -75.2055\n",
      "1.0   -75.2026\n",
      "Name: lng, dtype: float64\n"
     ]
    }
   ],
   "source": [
    "df_temp = df_filter[df_filter['location_block_normalized'] == '4000 BLOCK LANCASTER AVE'][['location_block_normalized', 'lat', 'lng']]\n",
    "print(df_temp['lat'].quantile([0,1]).round(4))\n",
    "print(df_temp['lng'].quantile([0,1]).round(4))"
   ]
  },
  {
   "cell_type": "markdown",
   "id": "81142605",
   "metadata": {},
   "source": [
    "Aunque existan diferentes longitudes y latitudes para un mismo bloque, este hallazgo lo que nos indica es que la diferencia en términos de grados es marginal por lo que para efectos de hacer imputación para aquellos registros que no tienen coordenadas, se tomará el primer set de coordenadas encontradas para dicho bloque. "
   ]
  },
  {
   "cell_type": "code",
   "execution_count": 8,
   "id": "2f045053",
   "metadata": {},
   "outputs": [],
   "source": [
    "# Extraemos los registros que NO tienen missing en sus coordenadas\n",
    "df_non_nan_unique = (\n",
    "    df_filter[~(df_filter['lat'].isna() | df_filter['lng'].isna())]\n",
    "    .sort_values('dispatch_date')  # opcional: para priorizar por fecha\n",
    "    .drop_duplicates(subset='location_block_normalized', keep='first')\n",
    "    [['location_block_normalized', 'lat', 'lng']]\n",
    ")\n",
    "# Se filtran aquellas observaciones que SÍ tienen missing en sus coordenadas\n",
    "df_nan_clean = df_filter[(df_filter['lat'].isna()) | (df_filter['lng'].isna())].drop(['lat', 'lng'], axis=1)\n",
    "# Se procede a hacer el leftjoin entre ambos datasets\n",
    "df_nan_join = df_nan_clean.merge(\n",
    "    df_non_nan_unique,\n",
    "    on='location_block_normalized',\n",
    "    how='left',\n",
    ")"
   ]
  },
  {
   "cell_type": "markdown",
   "id": "e411be4b",
   "metadata": {},
   "source": [
    "Esto nos corrige bastantes registros como observamos anteriormente:"
   ]
  },
  {
   "cell_type": "code",
   "execution_count": 9,
   "id": "b5128200",
   "metadata": {},
   "outputs": [
    {
     "data": {
      "application/vnd.microsoft.datawrangler.viewer.v0+json": {
       "columns": [
        {
         "name": "index",
         "rawType": "int64",
         "type": "integer"
        },
        {
         "name": "location_block_normalized",
         "rawType": "object",
         "type": "string"
        },
        {
         "name": "lat",
         "rawType": "float64",
         "type": "float"
        },
        {
         "name": "lng",
         "rawType": "float64",
         "type": "float"
        }
       ],
       "ref": "fb89ab07-396c-4e78-a7e1-a7d4d118c01c",
       "rows": [
        [
         "0",
         "1900 BLOCK S CHRISTOPHER COLUMBUS BLVD",
         "39.92217441",
         "-75.14237468"
        ],
        [
         "1",
         "GERMANTOWN AVE",
         "40.02392653",
         "-75.1595523"
        ],
        [
         "2",
         "1600 BLOCK S CHRISTOPHER COLUMBUS BLVD",
         "39.92568299",
         "-75.14307766"
        ],
        [
         "3",
         "1600 BLOCK S CHRISTOPHER COLUMBUS BLVD",
         "39.92568299",
         "-75.14307766"
        ],
        [
         "4",
         "7900 BLOCK E ROOSEVELT BLVD",
         "40.05555537",
         "-75.04919712"
        ],
        [
         "5",
         "12000 BLOCK E ROOSEVELT BLVD",
         "40.10586452",
         "-75.00330626"
        ],
        [
         "6",
         "2100 BLOCK MAGEE AVE",
         "40.03693558",
         "-75.0665681"
        ],
        [
         "7",
         "E CHELTENHAM AVE",
         "40.01751300000007",
         "-75.06511499899995"
        ],
        [
         "8",
         "1200 BLOCK S FRONT ST",
         "39.93127983300008",
         "-75.14619693299994"
        ],
        [
         "9",
         "2600 BLOCK W BERKS ST",
         "39.98473622",
         "-75.17618741"
        ]
       ],
       "shape": {
        "columns": 3,
        "rows": 10
       }
      },
      "text/html": [
       "<div>\n",
       "<style scoped>\n",
       "    .dataframe tbody tr th:only-of-type {\n",
       "        vertical-align: middle;\n",
       "    }\n",
       "\n",
       "    .dataframe tbody tr th {\n",
       "        vertical-align: top;\n",
       "    }\n",
       "\n",
       "    .dataframe thead th {\n",
       "        text-align: right;\n",
       "    }\n",
       "</style>\n",
       "<table border=\"1\" class=\"dataframe\">\n",
       "  <thead>\n",
       "    <tr style=\"text-align: right;\">\n",
       "      <th></th>\n",
       "      <th>location_block_normalized</th>\n",
       "      <th>lat</th>\n",
       "      <th>lng</th>\n",
       "    </tr>\n",
       "  </thead>\n",
       "  <tbody>\n",
       "    <tr>\n",
       "      <th>0</th>\n",
       "      <td>1900 BLOCK S CHRISTOPHER COLUMBUS BLVD</td>\n",
       "      <td>39.922174</td>\n",
       "      <td>-75.142375</td>\n",
       "    </tr>\n",
       "    <tr>\n",
       "      <th>1</th>\n",
       "      <td>GERMANTOWN AVE</td>\n",
       "      <td>40.023927</td>\n",
       "      <td>-75.159552</td>\n",
       "    </tr>\n",
       "    <tr>\n",
       "      <th>2</th>\n",
       "      <td>1600 BLOCK S CHRISTOPHER COLUMBUS BLVD</td>\n",
       "      <td>39.925683</td>\n",
       "      <td>-75.143078</td>\n",
       "    </tr>\n",
       "    <tr>\n",
       "      <th>3</th>\n",
       "      <td>1600 BLOCK S CHRISTOPHER COLUMBUS BLVD</td>\n",
       "      <td>39.925683</td>\n",
       "      <td>-75.143078</td>\n",
       "    </tr>\n",
       "    <tr>\n",
       "      <th>4</th>\n",
       "      <td>7900 BLOCK E ROOSEVELT BLVD</td>\n",
       "      <td>40.055555</td>\n",
       "      <td>-75.049197</td>\n",
       "    </tr>\n",
       "    <tr>\n",
       "      <th>5</th>\n",
       "      <td>12000 BLOCK E ROOSEVELT BLVD</td>\n",
       "      <td>40.105865</td>\n",
       "      <td>-75.003306</td>\n",
       "    </tr>\n",
       "    <tr>\n",
       "      <th>6</th>\n",
       "      <td>2100 BLOCK MAGEE AVE</td>\n",
       "      <td>40.036936</td>\n",
       "      <td>-75.066568</td>\n",
       "    </tr>\n",
       "    <tr>\n",
       "      <th>7</th>\n",
       "      <td>E CHELTENHAM AVE</td>\n",
       "      <td>40.017513</td>\n",
       "      <td>-75.065115</td>\n",
       "    </tr>\n",
       "    <tr>\n",
       "      <th>8</th>\n",
       "      <td>1200 BLOCK S FRONT ST</td>\n",
       "      <td>39.931280</td>\n",
       "      <td>-75.146197</td>\n",
       "    </tr>\n",
       "    <tr>\n",
       "      <th>9</th>\n",
       "      <td>2600 BLOCK W BERKS ST</td>\n",
       "      <td>39.984736</td>\n",
       "      <td>-75.176187</td>\n",
       "    </tr>\n",
       "  </tbody>\n",
       "</table>\n",
       "</div>"
      ],
      "text/plain": [
       "                location_block_normalized        lat        lng\n",
       "0  1900 BLOCK S CHRISTOPHER COLUMBUS BLVD  39.922174 -75.142375\n",
       "1                          GERMANTOWN AVE  40.023927 -75.159552\n",
       "2  1600 BLOCK S CHRISTOPHER COLUMBUS BLVD  39.925683 -75.143078\n",
       "3  1600 BLOCK S CHRISTOPHER COLUMBUS BLVD  39.925683 -75.143078\n",
       "4             7900 BLOCK E ROOSEVELT BLVD  40.055555 -75.049197\n",
       "5            12000 BLOCK E ROOSEVELT BLVD  40.105865 -75.003306\n",
       "6                    2100 BLOCK MAGEE AVE  40.036936 -75.066568\n",
       "7                        E CHELTENHAM AVE  40.017513 -75.065115\n",
       "8                   1200 BLOCK S FRONT ST  39.931280 -75.146197\n",
       "9                   2600 BLOCK W BERKS ST  39.984736 -75.176187"
      ]
     },
     "execution_count": 9,
     "metadata": {},
     "output_type": "execute_result"
    }
   ],
   "source": [
    "df_nan_join[['location_block_normalized', 'lat', 'lng']].head(10)"
   ]
  },
  {
   "cell_type": "markdown",
   "id": "5e827b2a",
   "metadata": {},
   "source": [
    "Tratando los missing values de esta forma, hemos podido recuperar información de 2216 observaciones. Analicemos qué puede estar pasando con las otras 706. \n",
    "\n",
    "Hay una cantidad de registros que lo indican es la intersección entre dos bloques, por eso no llevan el número de bloque al inicio. "
   ]
  },
  {
   "cell_type": "code",
   "execution_count": 10,
   "id": "c74db605",
   "metadata": {},
   "outputs": [],
   "source": [
    "df_still_nan = df_nan_join[df_nan_join['lat'].isna() | df_nan_join['lng'].isna()]"
   ]
  },
  {
   "cell_type": "code",
   "execution_count": 11,
   "id": "68b42204",
   "metadata": {},
   "outputs": [],
   "source": [
    "df_non_nan = df_filter[~(df_filter['lat'].isna() | df_filter['lng'].isna())]\n",
    "df_nan_filled = df_nan_join[['lat', 'lng', 'hour', 'dispatch_date', 'dc_dist', 'psa', 'ucr_general', 'text_general_code', 'location_block', 'location_block_normalized']]"
   ]
  }
 ],
 "metadata": {
  "kernelspec": {
   "display_name": "base",
   "language": "python",
   "name": "python3"
  },
  "language_info": {
   "codemirror_mode": {
    "name": "ipython",
    "version": 3
   },
   "file_extension": ".py",
   "mimetype": "text/x-python",
   "name": "python",
   "nbconvert_exporter": "python",
   "pygments_lexer": "ipython3",
   "version": "3.12.4"
  }
 },
 "nbformat": 4,
 "nbformat_minor": 5
}
